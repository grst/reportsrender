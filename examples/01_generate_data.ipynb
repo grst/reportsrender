{
 "cells": [
  {
   "cell_type": "markdown",
   "metadata": {},
   "source": [
    "# Generate data\n",
    "\n",
    "This is a minimal example notebook that generates some data \n",
    "and writes it to an output file that has been specified as a parameter. \n",
    "\n",
    "## Defining parameters\n",
    "Let's first create a cell that defines the parameters\n",
    "for this notebook (in our case, the `output_file`). \n",
    "\n",
    "To this end, simply define a variable in a cell and add the \n",
    "tag `parameters` to the cell metadata. This is documented on the \n",
    "[papermill website](https://papermill.readthedocs.io/en/latest/usage-parameterize.html)\n",
    "\n",
    "The declared value serves as default parameter, and \n",
    "will be overwritten if the parameter is specified from the command line. "
   ]
  },
  {
   "cell_type": "code",
   "execution_count": 2,
   "metadata": {},
   "outputs": [],
   "source": [
    "output_file = \"data.csv\""
   ]
  },
  {
   "cell_type": "markdown",
   "metadata": {},
   "source": [
    "This parameter can be manipulated from the `reportsrender` call: \n",
    "\n",
    "```\n",
    "reportsrender 01_generate_data.ipynb 01_generate_data.html --params=\"output_file=results/data.csv\"\n",
    "```\n",
    "\n"
   ]
  },
  {
   "cell_type": "markdown",
   "metadata": {},
   "source": [
    "## Generate data\n",
    "\n",
    "In this case, we will just download the *iris* example dataset and write it to a `csv` file. "
   ]
  },
  {
   "cell_type": "code",
   "execution_count": 3,
   "metadata": {},
   "outputs": [],
   "source": [
    "import pandas as pd\n",
    "iris = pd.read_csv(\"https://raw.githubusercontent.com/mwaskom/seaborn-data/master/iris.csv\")\n",
    "iris.to_csv(output_file)"
   ]
  }
 ],
 "metadata": {
  "kernelspec": {
   "display_name": "Python [conda env:reportsrender_dev]",
   "language": "python",
   "name": "conda-env-reportsrender_dev-py"
  },
  "language_info": {
   "codemirror_mode": {
    "name": "ipython",
    "version": 3
   },
   "file_extension": ".py",
   "mimetype": "text/x-python",
   "name": "python",
   "nbconvert_exporter": "python",
   "pygments_lexer": "ipython3",
   "version": "3.7.3"
  }
 },
 "nbformat": 4,
 "nbformat_minor": 4
}
