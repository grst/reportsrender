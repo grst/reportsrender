{
 "cells": [
  {
   "cell_type": "raw",
   "metadata": {},
   "source": [
    "---\n",
    "title: The second notebook\n",
    "params:\n",
    "  input_file: NULL\n",
    "---"
   ]
  },
  {
   "cell_type": "markdown",
   "metadata": {},
   "source": [
    "# First section\n",
    "\n",
    "Load some packages, do some analysis, generate some plots..."
   ]
  },
  {
   "cell_type": "code",
   "execution_count": null,
   "metadata": {},
   "outputs": [],
   "source": [
    "import pandas as pd"
   ]
  },
  {
   "cell_type": "markdown",
   "metadata": {},
   "source": [
    "## Get parameters from papermill/knitr\n",
    "\n",
    "The following setup allows to run the parametrized report with both rmarkdown and papermill:\n",
    "\n",
    "* We first try to get the results `r.params` through reticulate. (default parameters are defined in the YAML header)\n",
    "* If that fails, we use the papermill notation to define default parameters.\n",
    "* the cell needs to be tagged with `parameters` (see metadata)"
   ]
  },
  {
   "cell_type": "code",
   "execution_count": null,
   "metadata": {
    "tags": [
     "parameters"
    ]
   },
   "outputs": [],
   "source": [
    "# get default parameters. Either papermill or rmarkdown way.\n",
    "try:\n",
    "    input_file = r.params[\"input_file\"]\n",
    "except:\n",
    "    print(\"Could not access params from `r` object. Don't worry if your are running papermill. \")\n",
    "    input_file = \"../results/01_generate_data/iris.tsv\""
   ]
  },
  {
   "cell_type": "markdown",
   "metadata": {
    "lines_to_next_cell": 0
   },
   "source": [
    "# Second section\n",
    "\n",
    "## The following code block is shows both code and results."
   ]
  },
  {
   "cell_type": "code",
   "execution_count": null,
   "metadata": {},
   "outputs": [],
   "source": [
    "# TEST: ECHO_TRUE_01\n",
    "print(\"TEST: \" + \"_\".join((\"RESULTS\", \"SHOW\", \"01\")))"
   ]
  },
  {
   "cell_type": "markdown",
   "metadata": {
    "lines_to_next_cell": 0
   },
   "source": [
    "## The following code block is hidden (code and results).\n",
    "Define a function to compute the fibonacci sequence."
   ]
  },
  {
   "cell_type": "code",
   "execution_count": null,
   "metadata": {
    "hide_output": true
   },
   "outputs": [],
   "source": [
    "# TEST: ECHO_FALSE\n",
    "print(\"TEST: \" + \"_\".join((\"RESULTS\", \"HIDE\")))\n",
    "# define fibonacci function\n",
    "# source: https://dev.to/teosoft7/how-to-implement-fibonacci-sequence-with-python-4cfo\n",
    "def fib(num):\n",
    "    if num == 0:\n",
    "        return 0\n",
    "    elif num == 1 or num == 2:\n",
    "        return 1\n",
    "    elif num > 2:\n",
    "        a = 1 # variable for (n - 1)\n",
    "        b = 1 # variable for (n - 2)\n",
    "        for _ in range(3, num + 1):\n",
    "            c = a + b\n",
    "            a, b = b, c\n",
    "\n",
    "        return c\n",
    "\n",
    "print(\"Fibonacci number 42: \" + str(fib(42)))"
   ]
  },
  {
   "cell_type": "markdown",
   "metadata": {
    "lines_to_next_cell": 0
   },
   "source": [
    "## The following code block is hidden (hide code, show results).\n",
    "\n",
    "Show the first 10 fibonacci numbers:"
   ]
  },
  {
   "cell_type": "code",
   "execution_count": null,
   "metadata": {
    "hide_input": true,
    "lines_to_next_cell": 2
   },
   "outputs": [],
   "source": [
    "# TEST: ECHO_FALSE\n",
    "print(\"TEST: \" + \"_\".join((\"RESULTS\", \"SHOW\", \"02\")))\n",
    "for i in range(10):\n",
    "    print(\"The {i}th Fibonacci number is {f}\".format(i=i, f=fib(i)))\n",
    "\n",
    "# plt.plot(range(10), [fib(x) for x in range(10)])"
   ]
  },
  {
   "cell_type": "markdown",
   "metadata": {
    "lines_to_next_cell": 0
   },
   "source": [
    "## The following code block suppresses the results:"
   ]
  },
  {
   "cell_type": "code",
   "execution_count": null,
   "metadata": {
    "lines_to_next_cell": 2,
    "results": "'hide'"
   },
   "outputs": [],
   "source": [
    "# TEST: ECHO_TRUE_02\n",
    "print(\"TEST: \" + \"_\".join((\"RESULTS\", \"HIDE\")))\n",
    "for i in range(10):\n",
    "    print(\"The {i}th Fibonacci number is {f}\".format(i=i, f=fib(i)))\n",
    "\n",
    "# plt.plot(range(10), [fib(x) for x in range(10)])"
   ]
  },
  {
   "cell_type": "markdown",
   "metadata": {},
   "source": [
    "# Summary\n",
    "Every notebook should hava summary section that's understandable by biologists.\n",
    "Include the 'highlights' here and repeat the corresponding figures."
   ]
  },
  {
   "cell_type": "code",
   "execution_count": null,
   "metadata": {
    "hide_input": true
   },
   "outputs": [],
   "source": [
    "iris = pd.read_csv(input_file, sep=\"\\t\")\n",
    "print(iris)"
   ]
  }
 ],
 "metadata": {
  "kernelspec": {
   "display_name": "Python [conda env:.conda-vanderburg_oropharyngeal_cancer]",
   "language": "python",
   "name": "conda-env-.conda-vanderburg_oropharyngeal_cancer-py"
  }
 },
 "nbformat": 4,
 "nbformat_minor": 2
}
